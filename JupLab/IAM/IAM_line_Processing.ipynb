{
 "cells": [
  {
   "cell_type": "markdown",
   "id": "eadd8b1a",
   "metadata": {},
   "source": [
    "# Script for Processing IAM data (line based)for TrOCR transformer format for purpose of HTR\n",
    "## 1- Text process "
   ]
  },
  {
   "cell_type": "code",
   "execution_count": 1,
   "id": "f6e98bf8",
   "metadata": {},
   "outputs": [
    {
     "name": "stderr",
     "output_type": "stream",
     "text": [
      "C:\\Users\\Mohammed\\anaconda3\\lib\\site-packages\\numpy\\_distributor_init.py:30: UserWarning: loaded more than 1 DLL from .libs:\n",
      "C:\\Users\\Mohammed\\anaconda3\\lib\\site-packages\\numpy\\.libs\\libopenblas.EL2C6PLE4ZYW3ECEVIV3OXXGRN2NRFM2.gfortran-win_amd64.dll\n",
      "C:\\Users\\Mohammed\\anaconda3\\lib\\site-packages\\numpy\\.libs\\libopenblas.XWYDX2IKJW2NMTWSFYNGFUWKQU3LYTCZ.gfortran-win_amd64.dll\n",
      "  warnings.warn(\"loaded more than 1 DLL from .libs:\"\n"
     ]
    }
   ],
   "source": [
    "import pandas as pd\n",
    "raw_data = 'C:/Users/Mohammed/Downloads/data/IAM/ascii/'\n",
    "df= ( \n",
    "        pd.read_csv(raw_data + \"lines.txt\", header=None, sep=r\"\\s\", engine=\"python\",\n",
    "                    usecols=[0,8], names=[\"filename\", \"text\"])\n",
    "            .assign(filename= lambda x: x[\"filename\"].add(\".png\"),\n",
    "                    text= lambda x: x[\"text\"].str.replace(r'[\\|\"]', \" \", regex=True)\n",
    "                                             .str.replace(r\"\\s+\", \" \", regex=True))\n",
    "    )"
   ]
  },
  {
   "cell_type": "code",
   "execution_count": 2,
   "id": "05dc33ff",
   "metadata": {},
   "outputs": [],
   "source": [
    "# # at this did miss for some data\n",
    "# import pandas as pd\n",
    "# raw_data = 'C:/Users/Mohammed/Downloads/data/IAM/ascii/'\n",
    "# df= ( \n",
    "#         pd.read_csv(raw_data + \"sentences.txt\", \n",
    "#                     header=None, \n",
    "#                     sep=r\"(\\d+)\\s(?=\\D)\", \n",
    "#                     engine=\"python\",\n",
    "#                     usecols=[0,4], \n",
    "#                     names=[\"filename\", \"text\"])\n",
    "#                     .assign(filename= lambda x: x[\"filename\"].str.strip().add(\".png\"),\n",
    "#                     text= lambda x: x[\"text\"].str.replace(r'[\\|\"]', \" \", regex=True)\n",
    "#                                              .str.replace(r\"\\s+\", \" \", regex=True))\n",
    "#     )"
   ]
  },
  {
   "cell_type": "code",
   "execution_count": 2,
   "id": "6c3bf7fd",
   "metadata": {},
   "outputs": [
    {
     "data": {
      "text/html": [
       "<div>\n",
       "<style scoped>\n",
       "    .dataframe tbody tr th:only-of-type {\n",
       "        vertical-align: middle;\n",
       "    }\n",
       "\n",
       "    .dataframe tbody tr th {\n",
       "        vertical-align: top;\n",
       "    }\n",
       "\n",
       "    .dataframe thead th {\n",
       "        text-align: right;\n",
       "    }\n",
       "</style>\n",
       "<table border=\"1\" class=\"dataframe\">\n",
       "  <thead>\n",
       "    <tr style=\"text-align: right;\">\n",
       "      <th></th>\n",
       "      <th>filename</th>\n",
       "      <th>text</th>\n",
       "    </tr>\n",
       "  </thead>\n",
       "  <tbody>\n",
       "    <tr>\n",
       "      <th>0</th>\n",
       "      <td>a01-000u-00.png</td>\n",
       "      <td>A MOVE to stop Mr. Gaitskell from</td>\n",
       "    </tr>\n",
       "    <tr>\n",
       "      <th>1</th>\n",
       "      <td>a01-000u-01.png</td>\n",
       "      <td>nominating any more Labour life Peers</td>\n",
       "    </tr>\n",
       "    <tr>\n",
       "      <th>2</th>\n",
       "      <td>a01-000u-02.png</td>\n",
       "      <td>is to be made at a meeting of Labour</td>\n",
       "    </tr>\n",
       "    <tr>\n",
       "      <th>3</th>\n",
       "      <td>a01-000u-03.png</td>\n",
       "      <td>M</td>\n",
       "    </tr>\n",
       "    <tr>\n",
       "      <th>4</th>\n",
       "      <td>a01-000u-04.png</td>\n",
       "      <td>put down a resolution on the subject</td>\n",
       "    </tr>\n",
       "    <tr>\n",
       "      <th>5</th>\n",
       "      <td>a01-000u-05.png</td>\n",
       "      <td>and he is to be backed by Mr. Will</td>\n",
       "    </tr>\n",
       "    <tr>\n",
       "      <th>6</th>\n",
       "      <td>a01-000u-06.png</td>\n",
       "      <td>Griffiths , M</td>\n",
       "    </tr>\n",
       "    <tr>\n",
       "      <th>7</th>\n",
       "      <td>a01-000x-00.png</td>\n",
       "      <td>A MOVE to stop Mr. Gaitskell from nominating</td>\n",
       "    </tr>\n",
       "    <tr>\n",
       "      <th>8</th>\n",
       "      <td>a01-000x-01.png</td>\n",
       "      <td>any more Labour life Peers is to be made at a</td>\n",
       "    </tr>\n",
       "    <tr>\n",
       "      <th>9</th>\n",
       "      <td>a01-000x-02.png</td>\n",
       "      <td>meeting of Labour 0M</td>\n",
       "    </tr>\n",
       "  </tbody>\n",
       "</table>\n",
       "</div>"
      ],
      "text/plain": [
       "          filename                                           text\n",
       "0  a01-000u-00.png              A MOVE to stop Mr. Gaitskell from\n",
       "1  a01-000u-01.png          nominating any more Labour life Peers\n",
       "2  a01-000u-02.png           is to be made at a meeting of Labour\n",
       "3  a01-000u-03.png                                              M\n",
       "4  a01-000u-04.png           put down a resolution on the subject\n",
       "5  a01-000u-05.png             and he is to be backed by Mr. Will\n",
       "6  a01-000u-06.png                                  Griffiths , M\n",
       "7  a01-000x-00.png   A MOVE to stop Mr. Gaitskell from nominating\n",
       "8  a01-000x-01.png  any more Labour life Peers is to be made at a\n",
       "9  a01-000x-02.png                           meeting of Labour 0M"
      ]
     },
     "execution_count": 2,
     "metadata": {},
     "output_type": "execute_result"
    }
   ],
   "source": [
    "df.head(10)"
   ]
  },
  {
   "cell_type": "code",
   "execution_count": 3,
   "id": "2efbe5ab",
   "metadata": {},
   "outputs": [
    {
     "data": {
      "text/html": [
       "<div>\n",
       "<style scoped>\n",
       "    .dataframe tbody tr th:only-of-type {\n",
       "        vertical-align: middle;\n",
       "    }\n",
       "\n",
       "    .dataframe tbody tr th {\n",
       "        vertical-align: top;\n",
       "    }\n",
       "\n",
       "    .dataframe thead th {\n",
       "        text-align: right;\n",
       "    }\n",
       "</style>\n",
       "<table border=\"1\" class=\"dataframe\">\n",
       "  <thead>\n",
       "    <tr style=\"text-align: right;\">\n",
       "      <th></th>\n",
       "      <th>filename</th>\n",
       "      <th>text</th>\n",
       "    </tr>\n",
       "  </thead>\n",
       "  <tbody>\n",
       "    <tr>\n",
       "      <th>count</th>\n",
       "      <td>13353</td>\n",
       "      <td>13353</td>\n",
       "    </tr>\n",
       "    <tr>\n",
       "      <th>unique</th>\n",
       "      <td>13353</td>\n",
       "      <td>12760</td>\n",
       "    </tr>\n",
       "    <tr>\n",
       "      <th>top</th>\n",
       "      <td>a01-000u-00.png</td>\n",
       "      <td>This remarkable man of medicine , whom Sir Fra...</td>\n",
       "    </tr>\n",
       "    <tr>\n",
       "      <th>freq</th>\n",
       "      <td>1</td>\n",
       "      <td>9</td>\n",
       "    </tr>\n",
       "  </tbody>\n",
       "</table>\n",
       "</div>"
      ],
      "text/plain": [
       "               filename                                               text\n",
       "count             13353                                              13353\n",
       "unique            13353                                              12760\n",
       "top     a01-000u-00.png  This remarkable man of medicine , whom Sir Fra...\n",
       "freq                  1                                                  9"
      ]
     },
     "execution_count": 3,
     "metadata": {},
     "output_type": "execute_result"
    }
   ],
   "source": [
    "df.describe()"
   ]
  },
  {
   "cell_type": "code",
   "execution_count": 4,
   "id": "07483157",
   "metadata": {},
   "outputs": [
    {
     "name": "stdout",
     "output_type": "stream",
     "text": [
      "<class 'pandas.core.frame.DataFrame'>\n",
      "RangeIndex: 13353 entries, 0 to 13352\n",
      "Data columns (total 2 columns):\n",
      " #   Column    Non-Null Count  Dtype \n",
      "---  ------    --------------  ----- \n",
      " 0   filename  13353 non-null  object\n",
      " 1   text      13353 non-null  object\n",
      "dtypes: object(2)\n",
      "memory usage: 208.8+ KB\n"
     ]
    }
   ],
   "source": [
    "df.info()"
   ]
  },
  {
   "cell_type": "code",
   "execution_count": 5,
   "id": "d769bebc",
   "metadata": {},
   "outputs": [
    {
     "data": {
      "text/plain": [
       "'any more Labour life Peers is to be made at a'"
      ]
     },
     "execution_count": 5,
     "metadata": {},
     "output_type": "execute_result"
    }
   ],
   "source": [
    "df['text'][8]"
   ]
  },
  {
   "cell_type": "markdown",
   "id": "5c517c4d",
   "metadata": {},
   "source": [
    "### Her we save processed dataframe in new txt file "
   ]
  },
  {
   "cell_type": "code",
   "execution_count": 6,
   "id": "7ce28ca9",
   "metadata": {},
   "outputs": [],
   "source": [
    "df.to_csv('proceessed_lines.txt', sep='\\t', index=False,header = None)"
   ]
  },
  {
   "cell_type": "raw",
   "id": "87131814",
   "metadata": {},
   "source": [
    "After file txt saved now we can use it "
   ]
  },
  {
   "cell_type": "code",
   "execution_count": 8,
   "id": "12c437b4",
   "metadata": {},
   "outputs": [
    {
     "data": {
      "text/html": [
       "<div>\n",
       "<style scoped>\n",
       "    .dataframe tbody tr th:only-of-type {\n",
       "        vertical-align: middle;\n",
       "    }\n",
       "\n",
       "    .dataframe tbody tr th {\n",
       "        vertical-align: top;\n",
       "    }\n",
       "\n",
       "    .dataframe thead th {\n",
       "        text-align: right;\n",
       "    }\n",
       "</style>\n",
       "<table border=\"1\" class=\"dataframe\">\n",
       "  <thead>\n",
       "    <tr style=\"text-align: right;\">\n",
       "      <th></th>\n",
       "      <th>file_name</th>\n",
       "      <th>text</th>\n",
       "    </tr>\n",
       "  </thead>\n",
       "  <tbody>\n",
       "    <tr>\n",
       "      <th>0</th>\n",
       "      <td>a01-000u-00.png</td>\n",
       "      <td>A MOVE to stop Mr. Gaitskell from</td>\n",
       "    </tr>\n",
       "    <tr>\n",
       "      <th>1</th>\n",
       "      <td>a01-000u-01.png</td>\n",
       "      <td>nominating any more Labour life Peers</td>\n",
       "    </tr>\n",
       "    <tr>\n",
       "      <th>2</th>\n",
       "      <td>a01-000u-02.png</td>\n",
       "      <td>is to be made at a meeting of Labour</td>\n",
       "    </tr>\n",
       "    <tr>\n",
       "      <th>3</th>\n",
       "      <td>a01-000u-03.png</td>\n",
       "      <td>M</td>\n",
       "    </tr>\n",
       "    <tr>\n",
       "      <th>4</th>\n",
       "      <td>a01-000u-04.png</td>\n",
       "      <td>put down a resolution on the subject</td>\n",
       "    </tr>\n",
       "  </tbody>\n",
       "</table>\n",
       "</div>"
      ],
      "text/plain": [
       "         file_name                                   text\n",
       "0  a01-000u-00.png      A MOVE to stop Mr. Gaitskell from\n",
       "1  a01-000u-01.png  nominating any more Labour life Peers\n",
       "2  a01-000u-02.png   is to be made at a meeting of Labour\n",
       "3  a01-000u-03.png                                      M\n",
       "4  a01-000u-04.png   put down a resolution on the subject"
      ]
     },
     "execution_count": 8,
     "metadata": {},
     "output_type": "execute_result"
    }
   ],
   "source": [
    "data = 'C:/Users/Mohammed/AI1&2Labs/TrOCR-finetune/7/OCR_HU_Tra2022/JupLab/IAM/'\n",
    "df = pd.read_csv(data+'proceessed_lines.txt', sep=\"\\t\",header=None)\n",
    "df.rename(columns={0: \"file_name\", 1: \"text\"}, inplace=True)\n",
    "df.head()"
   ]
  },
  {
   "cell_type": "code",
   "execution_count": 9,
   "id": "cc414a64",
   "metadata": {},
   "outputs": [
    {
     "name": "stdout",
     "output_type": "stream",
     "text": [
      "<class 'pandas.core.frame.DataFrame'>\n",
      "RangeIndex: 13353 entries, 0 to 13352\n",
      "Data columns (total 2 columns):\n",
      " #   Column     Non-Null Count  Dtype \n",
      "---  ------     --------------  ----- \n",
      " 0   file_name  13353 non-null  object\n",
      " 1   text       13353 non-null  object\n",
      "dtypes: object(2)\n",
      "memory usage: 208.8+ KB\n"
     ]
    }
   ],
   "source": [
    "df.info()"
   ]
  },
  {
   "cell_type": "code",
   "execution_count": 10,
   "id": "c193f0b9",
   "metadata": {},
   "outputs": [
    {
     "data": {
      "text/html": [
       "<div>\n",
       "<style scoped>\n",
       "    .dataframe tbody tr th:only-of-type {\n",
       "        vertical-align: middle;\n",
       "    }\n",
       "\n",
       "    .dataframe tbody tr th {\n",
       "        vertical-align: top;\n",
       "    }\n",
       "\n",
       "    .dataframe thead th {\n",
       "        text-align: right;\n",
       "    }\n",
       "</style>\n",
       "<table border=\"1\" class=\"dataframe\">\n",
       "  <thead>\n",
       "    <tr style=\"text-align: right;\">\n",
       "      <th></th>\n",
       "      <th>file_name</th>\n",
       "      <th>text</th>\n",
       "    </tr>\n",
       "  </thead>\n",
       "  <tbody>\n",
       "    <tr>\n",
       "      <th>count</th>\n",
       "      <td>13353</td>\n",
       "      <td>13353</td>\n",
       "    </tr>\n",
       "    <tr>\n",
       "      <th>unique</th>\n",
       "      <td>13353</td>\n",
       "      <td>12760</td>\n",
       "    </tr>\n",
       "    <tr>\n",
       "      <th>top</th>\n",
       "      <td>a01-000u-00.png</td>\n",
       "      <td>This remarkable man of medicine , whom Sir Fra...</td>\n",
       "    </tr>\n",
       "    <tr>\n",
       "      <th>freq</th>\n",
       "      <td>1</td>\n",
       "      <td>9</td>\n",
       "    </tr>\n",
       "  </tbody>\n",
       "</table>\n",
       "</div>"
      ],
      "text/plain": [
       "              file_name                                               text\n",
       "count             13353                                              13353\n",
       "unique            13353                                              12760\n",
       "top     a01-000u-00.png  This remarkable man of medicine , whom Sir Fra...\n",
       "freq                  1                                                  9"
      ]
     },
     "execution_count": 10,
     "metadata": {},
     "output_type": "execute_result"
    }
   ],
   "source": [
    "df.describe()"
   ]
  },
  {
   "cell_type": "code",
   "execution_count": 11,
   "id": "b2b7aa33",
   "metadata": {},
   "outputs": [
    {
     "data": {
      "text/html": [
       "<div>\n",
       "<style scoped>\n",
       "    .dataframe tbody tr th:only-of-type {\n",
       "        vertical-align: middle;\n",
       "    }\n",
       "\n",
       "    .dataframe tbody tr th {\n",
       "        vertical-align: top;\n",
       "    }\n",
       "\n",
       "    .dataframe thead th {\n",
       "        text-align: right;\n",
       "    }\n",
       "</style>\n",
       "<table border=\"1\" class=\"dataframe\">\n",
       "  <thead>\n",
       "    <tr style=\"text-align: right;\">\n",
       "      <th></th>\n",
       "      <th>file_name</th>\n",
       "      <th>text</th>\n",
       "    </tr>\n",
       "  </thead>\n",
       "  <tbody>\n",
       "    <tr>\n",
       "      <th>2</th>\n",
       "      <td>a01-000u-02.png</td>\n",
       "      <td>is to be made at a meeting of Labour</td>\n",
       "    </tr>\n",
       "    <tr>\n",
       "      <th>3</th>\n",
       "      <td>a01-000u-03.png</td>\n",
       "      <td>M</td>\n",
       "    </tr>\n",
       "    <tr>\n",
       "      <th>4</th>\n",
       "      <td>a01-000u-04.png</td>\n",
       "      <td>put down a resolution on the subject</td>\n",
       "    </tr>\n",
       "    <tr>\n",
       "      <th>5</th>\n",
       "      <td>a01-000u-05.png</td>\n",
       "      <td>and he is to be backed by Mr. Will</td>\n",
       "    </tr>\n",
       "    <tr>\n",
       "      <th>6</th>\n",
       "      <td>a01-000u-06.png</td>\n",
       "      <td>Griffiths , M</td>\n",
       "    </tr>\n",
       "    <tr>\n",
       "      <th>7</th>\n",
       "      <td>a01-000x-00.png</td>\n",
       "      <td>A MOVE to stop Mr. Gaitskell from nominating</td>\n",
       "    </tr>\n",
       "    <tr>\n",
       "      <th>8</th>\n",
       "      <td>a01-000x-01.png</td>\n",
       "      <td>any more Labour life Peers is to be made at a</td>\n",
       "    </tr>\n",
       "    <tr>\n",
       "      <th>9</th>\n",
       "      <td>a01-000x-02.png</td>\n",
       "      <td>meeting of Labour 0M</td>\n",
       "    </tr>\n",
       "    <tr>\n",
       "      <th>10</th>\n",
       "      <td>a01-000x-03.png</td>\n",
       "      <td>Foot has put down a resolution on the subject</td>\n",
       "    </tr>\n",
       "    <tr>\n",
       "      <th>11</th>\n",
       "      <td>a01-000x-04.png</td>\n",
       "      <td>and he is to be backed by Mr. Will Griffiths ,</td>\n",
       "    </tr>\n",
       "    <tr>\n",
       "      <th>12</th>\n",
       "      <td>a01-000x-05.png</td>\n",
       "      <td>0M</td>\n",
       "    </tr>\n",
       "    <tr>\n",
       "      <th>13</th>\n",
       "      <td>a01-003-00.png</td>\n",
       "      <td>Though they may gather some Left-wing support , a</td>\n",
       "    </tr>\n",
       "    <tr>\n",
       "      <th>14</th>\n",
       "      <td>a01-003-01.png</td>\n",
       "      <td>large majority of Labour M</td>\n",
       "    </tr>\n",
       "    <tr>\n",
       "      <th>15</th>\n",
       "      <td>a01-003-02.png</td>\n",
       "      <td>turn down the Foot-Griffiths resolution . Mr.</td>\n",
       "    </tr>\n",
       "    <tr>\n",
       "      <th>16</th>\n",
       "      <td>a01-003-03.png</td>\n",
       "      <td>Foot's line will be that as Labour M</td>\n",
       "    </tr>\n",
       "    <tr>\n",
       "      <th>17</th>\n",
       "      <td>a01-003-04.png</td>\n",
       "      <td>opposed the Government Bill which brought</td>\n",
       "    </tr>\n",
       "    <tr>\n",
       "      <th>18</th>\n",
       "      <td>a01-003-05.png</td>\n",
       "      <td>life peers into existence , they should not</td>\n",
       "    </tr>\n",
       "    <tr>\n",
       "      <th>19</th>\n",
       "      <td>a01-003-06.png</td>\n",
       "      <td>now put forward nominees . He believes</td>\n",
       "    </tr>\n",
       "    <tr>\n",
       "      <th>20</th>\n",
       "      <td>a01-003-07.png</td>\n",
       "      <td>that the House of Lords should be abolished</td>\n",
       "    </tr>\n",
       "    <tr>\n",
       "      <th>21</th>\n",
       "      <td>a01-003-08.png</td>\n",
       "      <td>and that Labour should not take any steps</td>\n",
       "    </tr>\n",
       "    <tr>\n",
       "      <th>22</th>\n",
       "      <td>a01-003-09.png</td>\n",
       "      <td>which would appear to prop up an out-dated</td>\n",
       "    </tr>\n",
       "    <tr>\n",
       "      <th>23</th>\n",
       "      <td>a01-003-10.png</td>\n",
       "      <td>institution .</td>\n",
       "    </tr>\n",
       "    <tr>\n",
       "      <th>24</th>\n",
       "      <td>a01-003u-00.png</td>\n",
       "      <td>Though they may gather some Left-wing</td>\n",
       "    </tr>\n",
       "    <tr>\n",
       "      <th>25</th>\n",
       "      <td>a01-003u-01.png</td>\n",
       "      <td>support , a large majority of Labour</td>\n",
       "    </tr>\n",
       "    <tr>\n",
       "      <th>26</th>\n",
       "      <td>a01-003u-02.png</td>\n",
       "      <td>M</td>\n",
       "    </tr>\n",
       "    <tr>\n",
       "      <th>27</th>\n",
       "      <td>a01-003u-03.png</td>\n",
       "      <td>Griffiths resolution . Mr. Foot's line will</td>\n",
       "    </tr>\n",
       "    <tr>\n",
       "      <th>28</th>\n",
       "      <td>a01-003u-04.png</td>\n",
       "      <td>be that as Labour M</td>\n",
       "    </tr>\n",
       "    <tr>\n",
       "      <th>29</th>\n",
       "      <td>a01-003u-05.png</td>\n",
       "      <td>Government Bill which brought life peers</td>\n",
       "    </tr>\n",
       "    <tr>\n",
       "      <th>30</th>\n",
       "      <td>a01-003u-06.png</td>\n",
       "      <td>into existence , they should not now put</td>\n",
       "    </tr>\n",
       "    <tr>\n",
       "      <th>31</th>\n",
       "      <td>a01-003u-07.png</td>\n",
       "      <td>forward nominees . He believes that the</td>\n",
       "    </tr>\n",
       "    <tr>\n",
       "      <th>32</th>\n",
       "      <td>a01-003u-08.png</td>\n",
       "      <td>House of Lords should be abolished and</td>\n",
       "    </tr>\n",
       "  </tbody>\n",
       "</table>\n",
       "</div>"
      ],
      "text/plain": [
       "          file_name                                               text\n",
       "2   a01-000u-02.png               is to be made at a meeting of Labour\n",
       "3   a01-000u-03.png                                                  M\n",
       "4   a01-000u-04.png               put down a resolution on the subject\n",
       "5   a01-000u-05.png                 and he is to be backed by Mr. Will\n",
       "6   a01-000u-06.png                                      Griffiths , M\n",
       "7   a01-000x-00.png       A MOVE to stop Mr. Gaitskell from nominating\n",
       "8   a01-000x-01.png      any more Labour life Peers is to be made at a\n",
       "9   a01-000x-02.png                               meeting of Labour 0M\n",
       "10  a01-000x-03.png      Foot has put down a resolution on the subject\n",
       "11  a01-000x-04.png     and he is to be backed by Mr. Will Griffiths ,\n",
       "12  a01-000x-05.png                                                 0M\n",
       "13   a01-003-00.png  Though they may gather some Left-wing support , a\n",
       "14   a01-003-01.png                         large majority of Labour M\n",
       "15   a01-003-02.png      turn down the Foot-Griffiths resolution . Mr.\n",
       "16   a01-003-03.png               Foot's line will be that as Labour M\n",
       "17   a01-003-04.png          opposed the Government Bill which brought\n",
       "18   a01-003-05.png        life peers into existence , they should not\n",
       "19   a01-003-06.png             now put forward nominees . He believes\n",
       "20   a01-003-07.png        that the House of Lords should be abolished\n",
       "21   a01-003-08.png          and that Labour should not take any steps\n",
       "22   a01-003-09.png         which would appear to prop up an out-dated\n",
       "23   a01-003-10.png                                      institution .\n",
       "24  a01-003u-00.png              Though they may gather some Left-wing\n",
       "25  a01-003u-01.png               support , a large majority of Labour\n",
       "26  a01-003u-02.png                                                  M\n",
       "27  a01-003u-03.png        Griffiths resolution . Mr. Foot's line will\n",
       "28  a01-003u-04.png                                be that as Labour M\n",
       "29  a01-003u-05.png           Government Bill which brought life peers\n",
       "30  a01-003u-06.png           into existence , they should not now put\n",
       "31  a01-003u-07.png            forward nominees . He believes that the\n",
       "32  a01-003u-08.png             House of Lords should be abolished and"
      ]
     },
     "execution_count": 11,
     "metadata": {},
     "output_type": "execute_result"
    }
   ],
   "source": [
    "df[2:33]"
   ]
  },
  {
   "cell_type": "code",
   "execution_count": 12,
   "id": "3d833bc4",
   "metadata": {},
   "outputs": [
    {
     "name": "stderr",
     "output_type": "stream",
     "text": [
      "'head' is not recognized as an internal or external command,\n",
      "operable program or batch file.\n"
     ]
    }
   ],
   "source": [
    "!head -20 IAM/ascii/sentences_describe.txt"
   ]
  },
  {
   "cell_type": "markdown",
   "id": "08b5f193",
   "metadata": {},
   "source": [
    "# 2- second step is to make one folder that has all img"
   ]
  },
  {
   "cell_type": "code",
   "execution_count": 12,
   "id": "d6f3200d",
   "metadata": {},
   "outputs": [],
   "source": [
    "# (files[0])"
   ]
  },
  {
   "cell_type": "code",
   "execution_count": 13,
   "id": "4c838cad",
   "metadata": {},
   "outputs": [],
   "source": [
    "import glob\n",
    "import os\n",
    "import shutil\n",
    "data = 'C:/Users/Mohammed/Downloads/data'\n",
    "dest_folder = \"./img_lines/\"\n",
    "if not os.path.isdir(dest_folder):\n",
    "    os.mkdir(dest_folder)\n",
    "\n",
    "for item in glob.glob(data + '/IAM/lines/**/*.png',recursive=True):\n",
    "    filename = os.path.basename(item)\n",
    "    full_path = os.path.abspath(item)\n",
    "    shutil.copy(full_path, os.path.join(dest_folder,filename))"
   ]
  },
  {
   "cell_type": "code",
   "execution_count": 14,
   "id": "df3a7d5a",
   "metadata": {},
   "outputs": [
    {
     "data": {
      "text/plain": [
       "('r06-143-04.png',\n",
       " 'C:\\\\Users\\\\Mohammed\\\\Downloads\\\\data\\\\IAM\\\\lines\\\\r06\\\\r06-143\\\\r06-143-04.png')"
      ]
     },
     "execution_count": 14,
     "metadata": {},
     "output_type": "execute_result"
    }
   ],
   "source": [
    "filename ,full_path"
   ]
  },
  {
   "cell_type": "code",
   "execution_count": null,
   "id": "5beb63e2",
   "metadata": {},
   "outputs": [],
   "source": []
  }
 ],
 "metadata": {
  "kernelspec": {
   "display_name": "Python 3 (ipykernel)",
   "language": "python",
   "name": "python3"
  },
  "language_info": {
   "codemirror_mode": {
    "name": "ipython",
    "version": 3
   },
   "file_extension": ".py",
   "mimetype": "text/x-python",
   "name": "python",
   "nbconvert_exporter": "python",
   "pygments_lexer": "ipython3",
   "version": "3.9.7"
  }
 },
 "nbformat": 4,
 "nbformat_minor": 5
}
